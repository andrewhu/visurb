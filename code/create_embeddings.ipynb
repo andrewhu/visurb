{
 "cells": [
  {
   "cell_type": "markdown",
   "metadata": {},
   "source": [
    "## Visualizing Urban Dictionary definitions with BERT and t-SNE\n",
    "In this notebook we'll go through how to take definitions from the [Urban Dictionary](https://www.urbandictionary.com/) and run them through BERT to create sentence embeddings, then visualize them with t-SNE."
   ]
  },
  {
   "cell_type": "code",
   "execution_count": 6,
   "metadata": {},
   "outputs": [],
   "source": [
    "import json\n",
    "import numpy as np\n",
    "from sentence_transformers import SentenceTransformer\n",
    "from sklearn.manifold import TSNE"
   ]
  },
  {
   "cell_type": "markdown",
   "metadata": {},
   "source": [
    "First we'll define our transformer model. In this case we'll use the RoBERTa-large model trained on STS data, which is optimized for semantic textual similarity. While this is a big model, it ran fine on my laptop.\n",
    "\n",
    "See the UKP Lab's [sentence-transformers](https://github.com/UKPLab/sentence-transformers) repo for a pretrained model zoo and implementation details."
   ]
  },
  {
   "cell_type": "code",
   "execution_count": 4,
   "metadata": {},
   "outputs": [
    {
     "name": "stderr",
     "output_type": "stream",
     "text": [
      "100%|██████████| 1.31G/1.31G [02:31<00:00, 8.65MB/s] \n"
     ]
    }
   ],
   "source": [
    "transformer = SentenceTransformer('roberta-large-nli-stsb-mean-tokens')"
   ]
  },
  {
   "cell_type": "markdown",
   "metadata": {},
   "source": [
    "### Names"
   ]
  },
  {
   "cell_type": "code",
   "execution_count": 12,
   "metadata": {},
   "outputs": [],
   "source": [
    "with open(\"data/names_definitions.json\", 'r') as f:\n",
    "    data = json.loads(f.read())\n",
    "terms = [x['term'] for x in data]\n",
    "definitions = [x['definition'] for x in data]\n",
    "bert_embeddings = transformer.encode(definitions)\n",
    "tsne_embeddings = TSNE(n_components=2, perplexity=80, random_state=0).fit_transform(np.array(bert_embeddings))\n",
    "\n",
    "starsigns = []\n",
    "for term, definition, emb in zip(terms, definitions, tsne_embeddings.tolist()):\n",
    "    starsigns.append({\n",
    "        'term': term,\n",
    "        'definition': definition,\n",
    "        'x': emb[0],\n",
    "        'y': emb[1]\n",
    "    })\n",
    "\n",
    "# Write to file\n",
    "with open(\"results/names.json\", 'w') as f:\n",
    "    f.write(json.dumps(starsigns))"
   ]
  },
  {
   "cell_type": "markdown",
   "metadata": {},
   "source": [
    "### Star signs"
   ]
  },
  {
   "cell_type": "code",
   "execution_count": 13,
   "metadata": {},
   "outputs": [],
   "source": [
    "with open(\"data/starsigns_definitions.json\", 'r') as f:\n",
    "    data = json.loads(f.read())\n",
    "terms = [x['term'] for x in data]\n",
    "definitions = [x['definition'] for x in data]\n",
    "bert_embeddings = transformer.encode(definitions)\n",
    "tsne_embeddings = TSNE(n_components=2, perplexity=80, random_state=0).fit_transform(np.array(bert_embeddings))\n",
    "\n",
    "starsigns = []\n",
    "for term, definition, emb in zip(terms, definitions, tsne_embeddings.tolist()):\n",
    "    starsigns.append({\n",
    "        'term': term,\n",
    "        'definition': definition,\n",
    "        'x': emb[0],\n",
    "        'y': emb[1]\n",
    "    })\n",
    "\n",
    "# Write to file\n",
    "with open(\"results/starsigns.json\", 'w') as f:\n",
    "    f.write(json.dumps(starsigns))"
   ]
  },
  {
   "cell_type": "code",
   "execution_count": 7,
   "metadata": {},
   "outputs": [],
   "source": []
  },
  {
   "cell_type": "code",
   "execution_count": null,
   "metadata": {},
   "outputs": [],
   "source": []
  },
  {
   "cell_type": "code",
   "execution_count": null,
   "metadata": {},
   "outputs": [],
   "source": []
  }
 ],
 "metadata": {
  "kernelspec": {
   "display_name": "Python 3",
   "language": "python",
   "name": "python3"
  },
  "language_info": {
   "codemirror_mode": {
    "name": "ipython",
    "version": 3
   },
   "file_extension": ".py",
   "mimetype": "text/x-python",
   "name": "python",
   "nbconvert_exporter": "python",
   "pygments_lexer": "ipython3",
   "version": "3.8.2"
  }
 },
 "nbformat": 4,
 "nbformat_minor": 4
}
